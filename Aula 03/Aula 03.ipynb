{
 "cells": [
  {
   "cell_type": "markdown",
   "metadata": {},
   "source": [
    "# Strings"
   ]
  },
  {
   "cell_type": "markdown",
   "metadata": {},
   "source": [
    "**Um dos tipos de variáveis mais explorados pelo LABIMEC são as strings, todos os pesquisadores de Linguagem Natural estão habituados as particularidades e tratamentos de strings. Essa etapa do curso, focaremos apenas nos métodos básicos de tratamento desse tipo. O poder de um código vem da sua capacidade de resolver um problema complexo em relação a simplicidade de sua implementação. Portanto, é importante que o pesquisador domine os recursos básico de manipulação de uma string.**"
   ]
  },
  {
   "cell_type": "code",
   "execution_count": 2,
   "metadata": {},
   "outputs": [],
   "source": [
    "frase = 'Oi, LABIMEC'"
   ]
  },
  {
   "cell_type": "code",
   "execution_count": 3,
   "metadata": {},
   "outputs": [
    {
     "name": "stdout",
     "output_type": "stream",
     "text": [
      "Oi, LABIMEC\n"
     ]
    }
   ],
   "source": [
    "print(frase)"
   ]
  },
  {
   "cell_type": "markdown",
   "metadata": {},
   "source": [
    "**Uma string pode ser acessada por índices, vejamos os seguinte caso:**"
   ]
  },
  {
   "cell_type": "markdown",
   "metadata": {},
   "source": [
    "O primeiro elemento de uma string, lista, tupla, dentre todas as estruturas de dado em Python sempre vai ser presentado pelo número 0."
   ]
  },
  {
   "cell_type": "code",
   "execution_count": 4,
   "metadata": {},
   "outputs": [
    {
     "name": "stdout",
     "output_type": "stream",
     "text": [
      "O\n"
     ]
    }
   ],
   "source": [
    "print(frase[0])"
   ]
  },
  {
   "cell_type": "markdown",
   "metadata": {},
   "source": [
    "Elementos como espaço em branco e pontuações são contabilizados no tamanho da string."
   ]
  },
  {
   "cell_type": "code",
   "execution_count": 7,
   "metadata": {},
   "outputs": [
    {
     "name": "stdout",
     "output_type": "stream",
     "text": [
      ",\n"
     ]
    }
   ],
   "source": [
    "print(frase[2])"
   ]
  },
  {
   "cell_type": "code",
   "execution_count": 6,
   "metadata": {},
   "outputs": [
    {
     "name": "stdout",
     "output_type": "stream",
     "text": [
      " \n"
     ]
    }
   ],
   "source": [
    "print(frase[3])"
   ]
  },
  {
   "cell_type": "markdown",
   "metadata": {},
   "source": [
    "Se contarmos cada letra e espaços em brancos dentro de frase da um total de 11, porém, como já dito, Python começa a contar de 0, logo o último elemento deve ser acesso pelo índice 10."
   ]
  },
  {
   "cell_type": "code",
   "execution_count": 8,
   "metadata": {},
   "outputs": [
    {
     "ename": "IndexError",
     "evalue": "string index out of range",
     "output_type": "error",
     "traceback": [
      "\u001b[1;31m---------------------------------------------------------------------------\u001b[0m",
      "\u001b[1;31mIndexError\u001b[0m                                Traceback (most recent call last)",
      "\u001b[1;32m<ipython-input-8-e83bbdebd42e>\u001b[0m in \u001b[0;36m<module>\u001b[1;34m\u001b[0m\n\u001b[1;32m----> 1\u001b[1;33m \u001b[0mprint\u001b[0m\u001b[1;33m(\u001b[0m\u001b[0mfrase\u001b[0m\u001b[1;33m[\u001b[0m\u001b[1;36m11\u001b[0m\u001b[1;33m]\u001b[0m\u001b[1;33m)\u001b[0m\u001b[1;33m\u001b[0m\u001b[1;33m\u001b[0m\u001b[0m\n\u001b[0m",
      "\u001b[1;31mIndexError\u001b[0m: string index out of range"
     ]
    }
   ],
   "source": [
    "print(frase[11])"
   ]
  },
  {
   "cell_type": "markdown",
   "metadata": {},
   "source": [
    "O erro 'string index out of range' é a forma de Python nos dizer que estamos tentando acessar um elemento maior que o tamanho de nosso objeto."
   ]
  },
  {
   "cell_type": "code",
   "execution_count": 9,
   "metadata": {},
   "outputs": [
    {
     "name": "stdout",
     "output_type": "stream",
     "text": [
      "C\n"
     ]
    }
   ],
   "source": [
    "print(frase[10])"
   ]
  },
  {
   "cell_type": "markdown",
   "metadata": {},
   "source": [
    "**Bônus**: Os índices podem ser acessados de trás para frente também, a forma é bem intuitiva, vejamos:"
   ]
  },
  {
   "cell_type": "code",
   "execution_count": 13,
   "metadata": {},
   "outputs": [
    {
     "name": "stdout",
     "output_type": "stream",
     "text": [
      "C\n",
      "E\n",
      "i\n",
      "O\n"
     ]
    }
   ],
   "source": [
    "print(frase[-1]) #Acessa o último elemento\n",
    "print(frase[-2]) #Acessa o penúltimo elemento\n",
    "print(frase[-10]) #Acessa o segundo elemento\n",
    "print(frase[-11]) #Acessa o primeiro elemento"
   ]
  },
  {
   "cell_type": "markdown",
   "metadata": {},
   "source": [
    "O aluno mais atento vai perceber que no caso do acesso usando índices negativos, o tamanho da lista realmente é 11, o motivo para isso é tão simples quanto parece, **não existe -0**."
   ]
  },
  {
   "cell_type": "markdown",
   "metadata": {},
   "source": [
    "**Beleza, entendemos como funciona uma acessar elementos de uma lista. Agora suponha a seguinte string:**"
   ]
  },
  {
   "cell_type": "code",
   "execution_count": 15,
   "metadata": {},
   "outputs": [],
   "source": [
    "frase2 = \"Phasellus eget enim eu lectus faucibus vestibulum.\""
   ]
  },
  {
   "cell_type": "markdown",
   "metadata": {},
   "source": [
    "Se o pesquisador tiver que acessar o último elemento dessa string, ele terá que contar elemento por elemento? Obviamente que não, programação não seria nem um pouco prático se assim o fosse. Para lidar com essas situações, podemos fazer com que Python conte para gente a quantidade de elementos na string usando o método **len(string)**."
   ]
  },
  {
   "cell_type": "code",
   "execution_count": 16,
   "metadata": {},
   "outputs": [
    {
     "name": "stdout",
     "output_type": "stream",
     "text": [
      "50\n"
     ]
    }
   ],
   "source": [
    "print(len(frase2))"
   ]
  },
  {
   "cell_type": "markdown",
   "metadata": {},
   "source": [
    "Vamos tirar a prova real:"
   ]
  },
  {
   "cell_type": "code",
   "execution_count": 17,
   "metadata": {},
   "outputs": [
    {
     "ename": "IndexError",
     "evalue": "string index out of range",
     "output_type": "error",
     "traceback": [
      "\u001b[1;31m---------------------------------------------------------------------------\u001b[0m",
      "\u001b[1;31mIndexError\u001b[0m                                Traceback (most recent call last)",
      "\u001b[1;32m<ipython-input-17-be2631318fe9>\u001b[0m in \u001b[0;36m<module>\u001b[1;34m\u001b[0m\n\u001b[1;32m----> 1\u001b[1;33m \u001b[0mfrase2\u001b[0m\u001b[1;33m[\u001b[0m\u001b[1;36m50\u001b[0m\u001b[1;33m]\u001b[0m\u001b[1;33m\u001b[0m\u001b[1;33m\u001b[0m\u001b[0m\n\u001b[0m",
      "\u001b[1;31mIndexError\u001b[0m: string index out of range"
     ]
    }
   ],
   "source": [
    "frase2[50]"
   ]
  },
  {
   "cell_type": "markdown",
   "metadata": {},
   "source": [
    "Porque isso aconteceu? Como já dito, Python começa a contar de 0, ao retornar a informação que o tamanho da lista é 50, é o mesmo de dizer que existem 50 índices entre 0 e 49. Podemos constatar da seguinte maneira:"
   ]
  },
  {
   "cell_type": "code",
   "execution_count": 18,
   "metadata": {},
   "outputs": [
    {
     "data": {
      "text/plain": [
       "'.'"
      ]
     },
     "execution_count": 18,
     "metadata": {},
     "output_type": "execute_result"
    }
   ],
   "source": [
    "frase2[49]"
   ]
  },
  {
   "cell_type": "markdown",
   "metadata": {},
   "source": [
    "Vejamos no caso da nossa primeira string 'frase':"
   ]
  },
  {
   "cell_type": "code",
   "execution_count": 19,
   "metadata": {},
   "outputs": [
    {
     "name": "stdout",
     "output_type": "stream",
     "text": [
      "11\n"
     ]
    }
   ],
   "source": [
    "print(len(frase))"
   ]
  },
  {
   "cell_type": "code",
   "execution_count": 20,
   "metadata": {},
   "outputs": [
    {
     "name": "stdout",
     "output_type": "stream",
     "text": [
      "C\n"
     ]
    }
   ],
   "source": [
    "print(frase[10])"
   ]
  },
  {
   "cell_type": "markdown",
   "metadata": {},
   "source": [
    "**Muitas vezes, o pesquisador quer comparar os elementos de uma determinada string com elementos pré-definidos, o problema principal nessas situações acontecem em decorrência da sensibilidade que Python tem a letras maiúsculas e minúsculas. Vejamos o seguinte caso:**"
   ]
  },
  {
   "cell_type": "code",
   "execution_count": 21,
   "metadata": {},
   "outputs": [
    {
     "data": {
      "text/plain": [
       "False"
      ]
     },
     "execution_count": 21,
     "metadata": {},
     "output_type": "execute_result"
    }
   ],
   "source": [
    "palavra1 = 'flavio'\n",
    "palavra2 = 'Flavio'\n",
    "\n",
    "palavra1 == palavra2"
   ]
  },
  {
   "cell_type": "markdown",
   "metadata": {},
   "source": [
    "False, como era de se esperar. Mas isto significa que o pesquisador deverá checar palavra a palavra para retirar letras maiúsculas e minúsculas? Ainda bem que não, podemos utilizar do método  string.**lower()** de Python para fazer isso de uma maneira bem simples, vejamos:"
   ]
  },
  {
   "cell_type": "code",
   "execution_count": 22,
   "metadata": {},
   "outputs": [
    {
     "name": "stdout",
     "output_type": "stream",
     "text": [
      "flavio\n"
     ]
    }
   ],
   "source": [
    "print(palavra1.lower())"
   ]
  },
  {
   "cell_type": "code",
   "execution_count": 23,
   "metadata": {},
   "outputs": [
    {
     "name": "stdout",
     "output_type": "stream",
     "text": [
      "flavio\n"
     ]
    }
   ],
   "source": [
    "print(palavra2.lower())"
   ]
  },
  {
   "cell_type": "code",
   "execution_count": 24,
   "metadata": {},
   "outputs": [
    {
     "data": {
      "text/plain": [
       "True"
      ]
     },
     "execution_count": 24,
     "metadata": {},
     "output_type": "execute_result"
    }
   ],
   "source": [
    "palavra1.lower() == palavra2.lower()"
   ]
  },
  {
   "cell_type": "markdown",
   "metadata": {},
   "source": [
    "Ahá! Este era o resultado que esperávamos, **.lower()** é um dos recursos mais utilizados para garantir que comparações eficientes sejam feitas. Naturalmente, o processo contrário **.upper()** também pode ser realizado, porém há uma convenção em usar o **.lower()**. A título de demonstração:"
   ]
  },
  {
   "cell_type": "code",
   "execution_count": 25,
   "metadata": {},
   "outputs": [
    {
     "name": "stdout",
     "output_type": "stream",
     "text": [
      "FLAVIO\n"
     ]
    }
   ],
   "source": [
    "print(palavra1.upper())"
   ]
  },
  {
   "cell_type": "code",
   "execution_count": 26,
   "metadata": {},
   "outputs": [
    {
     "name": "stdout",
     "output_type": "stream",
     "text": [
      "FLAVIO\n"
     ]
    }
   ],
   "source": [
    "print(palavra2.upper())"
   ]
  },
  {
   "cell_type": "code",
   "execution_count": 27,
   "metadata": {},
   "outputs": [
    {
     "data": {
      "text/plain": [
       "True"
      ]
     },
     "execution_count": 27,
     "metadata": {},
     "output_type": "execute_result"
    }
   ],
   "source": [
    "palavra1.upper() == palavra2.upper()"
   ]
  },
  {
   "cell_type": "markdown",
   "metadata": {},
   "source": [
    "**Como se não houvessem problemas suficientes, a língua portuguesa é repleta de acentuações, o que faz com que Python também encontre dificuldades de comparação.**"
   ]
  },
  {
   "cell_type": "code",
   "execution_count": 34,
   "metadata": {},
   "outputs": [
    {
     "data": {
      "text/plain": [
       "False"
      ]
     },
     "execution_count": 34,
     "metadata": {},
     "output_type": "execute_result"
    }
   ],
   "source": [
    "palavra1 = 'flávio'\n",
    "palavra2 = 'flavio'\n",
    "\n",
    "palavra1 == palavra2"
   ]
  },
  {
   "cell_type": "markdown",
   "metadata": {},
   "source": [
    "Como lidar com esse problema? Existe uma literatura muito vasta para solucionar problemas como esse, nesse momento o que é interessante é a forma mais básica e nativa de Python, que é usar o método **replace('elemento_que_vai_ser_trocado', 'elemento_que_vai_substituir')**. Note que esse método recebe dois argumentos, essa discussão sobre argumentos de um método é um tanto quanto mais complexa para essa etapa do curso, mas certamente será abordado em aulas futuras, por enquanto, concentrem-se em entender intuitivamente a sua finalidade."
   ]
  },
  {
   "cell_type": "code",
   "execution_count": 30,
   "metadata": {},
   "outputs": [
    {
     "name": "stdout",
     "output_type": "stream",
     "text": [
      "flavio\n"
     ]
    }
   ],
   "source": [
    "print(palavra1.replace('á', 'a'))"
   ]
  },
  {
   "cell_type": "markdown",
   "metadata": {},
   "source": [
    "Note que trocamos o elemento 'á' pelo elemento 'a' na variável 'palavra1', porém se tentarmos acessar 'palavra1' veremos que nada foi feito."
   ]
  },
  {
   "cell_type": "code",
   "execution_count": 35,
   "metadata": {},
   "outputs": [
    {
     "name": "stdout",
     "output_type": "stream",
     "text": [
      "flávio\n"
     ]
    }
   ],
   "source": [
    "print(palavra1)"
   ]
  },
  {
   "cell_type": "markdown",
   "metadata": {},
   "source": [
    "Isto ocorre porque não houve nenhuma reatribuição da variável 'palavra1'. Como visto na Aula 02, vamos reatribuir um valor para a variável 'palavra1':"
   ]
  },
  {
   "cell_type": "code",
   "execution_count": 36,
   "metadata": {},
   "outputs": [],
   "source": [
    "palavra1 = palavra1.replace('á', 'a')"
   ]
  },
  {
   "cell_type": "code",
   "execution_count": 37,
   "metadata": {},
   "outputs": [
    {
     "name": "stdout",
     "output_type": "stream",
     "text": [
      "flavio\n"
     ]
    }
   ],
   "source": [
    "print(palavra1)"
   ]
  },
  {
   "cell_type": "code",
   "execution_count": 56,
   "metadata": {},
   "outputs": [
    {
     "name": "stdout",
     "output_type": "stream",
     "text": [
      "flavio\n"
     ]
    }
   ],
   "source": [
    "print(palavra2)"
   ]
  },
  {
   "cell_type": "code",
   "execution_count": 38,
   "metadata": {},
   "outputs": [
    {
     "data": {
      "text/plain": [
       "True"
      ]
     },
     "execution_count": 38,
     "metadata": {},
     "output_type": "execute_result"
    }
   ],
   "source": [
    "palavra1 == palavra2"
   ]
  },
  {
   "cell_type": "markdown",
   "metadata": {},
   "source": [
    "**Vamos a um dos métodos que mais vai auxiliar o pesquisador em situações de preparação de uma base de dados para métodos de Processo de Linguagem Natural (PLN), o string.split('criterio_de_separacao'). Como já é fácil de perceber, o método vai separar uma string qualquer a partir de um argumento que será utilizado como critério de separação, vejamos na prática:**"
   ]
  },
  {
   "cell_type": "code",
   "execution_count": 40,
   "metadata": {},
   "outputs": [],
   "source": [
    "fraseSeparada = frase.split(',')"
   ]
  },
  {
   "cell_type": "code",
   "execution_count": 41,
   "metadata": {},
   "outputs": [
    {
     "name": "stdout",
     "output_type": "stream",
     "text": [
      "['Oi', ' LABIMEC']\n"
     ]
    }
   ],
   "source": [
    "print(fraseSeparada)"
   ]
  },
  {
   "cell_type": "markdown",
   "metadata": {},
   "source": [
    "Qual você acha que será o tipo da nova variável 'fraseSeparada'?"
   ]
  },
  {
   "cell_type": "code",
   "execution_count": 42,
   "metadata": {},
   "outputs": [
    {
     "name": "stdout",
     "output_type": "stream",
     "text": [
      "<class 'list'>\n"
     ]
    }
   ],
   "source": [
    "print(type(fraseSeparada))"
   ]
  },
  {
   "cell_type": "markdown",
   "metadata": {},
   "source": [
    "Tipo list? Naturalmente, nessa etapa, você deve está se perguntando o que é um tipo list. Não há com o que se preocupar, list é uma estrutura de dado muito comum, talvez a mais utilizada para organizar dados em linguagens de programação. O ponto fundamental nesse momento, é entender que 'fraseSepara' é fruto da separação que fizemos de 'frase' com o método .replace(','), no qual critério de separação foi uma vírgula. Consequentemente, o elemento vírgula foi retirado e nosso output/saída é uma lista com 2 elementos, o primeiro é a palavra 'Oi' e o segundo 'LABIMEC'."
   ]
  },
  {
   "cell_type": "code",
   "execution_count": 44,
   "metadata": {},
   "outputs": [
    {
     "name": "stdout",
     "output_type": "stream",
     "text": [
      "Oi\n"
     ]
    }
   ],
   "source": [
    "print(fraseSeparada[0])"
   ]
  },
  {
   "cell_type": "code",
   "execution_count": 45,
   "metadata": {},
   "outputs": [
    {
     "name": "stdout",
     "output_type": "stream",
     "text": [
      " LABIMEC\n"
     ]
    }
   ],
   "source": [
    "print(fraseSeparada[1])"
   ]
  },
  {
   "cell_type": "markdown",
   "metadata": {},
   "source": [
    "**Acessando elementos de uma String por intervalos de índice**"
   ]
  },
  {
   "cell_type": "markdown",
   "metadata": {},
   "source": [
    "Como outras linguagens de programação, Python permite que o programador acesse strings por intervalos de índices, o que isso quer dizer? Podemos, por exemplo, acessar do primeiro ao 4 elemento, do 4 a o último elemento, do 3 ao 5 elemento, e assim por diante. Vejamos:"
   ]
  },
  {
   "cell_type": "code",
   "execution_count": 53,
   "metadata": {},
   "outputs": [
    {
     "name": "stdout",
     "output_type": "stream",
     "text": [
      "Oi, LABIMEC\n"
     ]
    }
   ],
   "source": [
    "print(frase)"
   ]
  },
  {
   "cell_type": "code",
   "execution_count": 46,
   "metadata": {},
   "outputs": [
    {
     "name": "stdout",
     "output_type": "stream",
     "text": [
      "Oi,\n"
     ]
    }
   ],
   "source": [
    "print(frase[0:3])"
   ]
  },
  {
   "cell_type": "code",
   "execution_count": 50,
   "metadata": {},
   "outputs": [
    {
     "name": "stdout",
     "output_type": "stream",
     "text": [
      " LABIMEC\n"
     ]
    }
   ],
   "source": [
    "print(frase[3:])"
   ]
  },
  {
   "cell_type": "code",
   "execution_count": 51,
   "metadata": {},
   "outputs": [
    {
     "name": "stdout",
     "output_type": "stream",
     "text": [
      " LAB\n"
     ]
    }
   ],
   "source": [
    "print(frase[3:7])"
   ]
  },
  {
   "cell_type": "code",
   "execution_count": 54,
   "metadata": {},
   "outputs": [
    {
     "name": "stdout",
     "output_type": "stream",
     "text": [
      " LABIMEC\n"
     ]
    }
   ],
   "source": [
    "print(frase[3:len(frase)])"
   ]
  },
  {
   "cell_type": "code",
   "execution_count": 55,
   "metadata": {},
   "outputs": [
    {
     "name": "stdout",
     "output_type": "stream",
     "text": [
      "Oi, LABIMEC\n"
     ]
    }
   ],
   "source": [
    "print(frase[:len(frase)])"
   ]
  },
  {
   "cell_type": "markdown",
   "metadata": {},
   "source": [
    "Note que, na prática, quando passamos um argumento '3:7', Python irá retornar do índice 2 ao índice 6. Novamente, isso ocorre porque Python começa a contar do elemento 0."
   ]
  }
 ],
 "metadata": {
  "kernelspec": {
   "display_name": "Python 3",
   "language": "python",
   "name": "python3"
  },
  "language_info": {
   "codemirror_mode": {
    "name": "ipython",
    "version": 3
   },
   "file_extension": ".py",
   "mimetype": "text/x-python",
   "name": "python",
   "nbconvert_exporter": "python",
   "pygments_lexer": "ipython3",
   "version": "3.7.3"
  }
 },
 "nbformat": 4,
 "nbformat_minor": 2
}
