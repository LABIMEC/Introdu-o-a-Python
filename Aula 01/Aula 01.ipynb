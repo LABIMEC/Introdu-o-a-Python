{
 "cells": [
  {
   "cell_type": "markdown",
   "metadata": {},
   "source": [
    "# 1 - Indentação"
   ]
  },
  {
   "cell_type": "markdown",
   "metadata": {},
   "source": [
    "**Identação é um recuo aplicado a códigos fontes para ressaltar a estrutura de um programa ou código. Comumente, a identação tem apenas a finalidade de facilitar a leitura do código, em Python, a indentação tem um papel mais importante. *Indentação* em Phyton indicada uma estrutura de código, não usar adequadamente uma indentação, resultará em um erro.**"
   ]
  },
  {
   "cell_type": "markdown",
   "metadata": {},
   "source": [
    "O pesquisador não deve se preocupar em entender a estrutura condicional if/else, ela será objeto de estudo de uma futura aula. Por enquanto, atente-se a estrutura do código e não sua lógica"
   ]
  },
  {
   "cell_type": "code",
   "execution_count": 2,
   "metadata": {},
   "outputs": [
    {
     "name": "stdout",
     "output_type": "stream",
     "text": [
      "Dois é maior que três\n"
     ]
    }
   ],
   "source": [
    "if 3 > 2:\n",
    "    print(\"Três é maior que dois\")"
   ]
  },
  {
   "cell_type": "code",
   "execution_count": 3,
   "metadata": {},
   "outputs": [
    {
     "ename": "IndentationError",
     "evalue": "expected an indented block (<ipython-input-3-65dd4d50e06f>, line 2)",
     "output_type": "error",
     "traceback": [
      "\u001b[1;36m  File \u001b[1;32m\"<ipython-input-3-65dd4d50e06f>\"\u001b[1;36m, line \u001b[1;32m2\u001b[0m\n\u001b[1;33m    print(\"Dois é maior que três\")\u001b[0m\n\u001b[1;37m        ^\u001b[0m\n\u001b[1;31mIndentationError\u001b[0m\u001b[1;31m:\u001b[0m expected an indented block\n"
     ]
    }
   ],
   "source": [
    "if 3 > 2:\n",
    "print(\"Três é maior que dois\")"
   ]
  },
  {
   "cell_type": "markdown",
   "metadata": {},
   "source": [
    "**'IndentationError: expected an indented block', é maneira que Python sinaliza ao programador que na linha 2 ('line 2'), esperava-se uma indentação da estrutura condicional if**"
   ]
  },
  {
   "cell_type": "markdown",
   "metadata": {},
   "source": [
    "O que você espera que acontaça no seguinte caso?"
   ]
  },
  {
   "cell_type": "code",
   "execution_count": 4,
   "metadata": {},
   "outputs": [
    {
     "name": "stdout",
     "output_type": "stream",
     "text": [
      "Dois é maior que três\n"
     ]
    }
   ],
   "source": [
    "if 3 > 2 : print('Três é maior que dois')"
   ]
  },
  {
   "cell_type": "markdown",
   "metadata": {},
   "source": [
    "**Como vocês podem ver, Python entende que o comando print ao seu lado faz parte da estrutura do if**"
   ]
  },
  {
   "cell_type": "markdown",
   "metadata": {},
   "source": [
    "O que aconteceria na seguinte ocasião?"
   ]
  },
  {
   "cell_type": "code",
   "execution_count": 5,
   "metadata": {},
   "outputs": [
    {
     "ename": "IndentationError",
     "evalue": "unexpected indent (<ipython-input-5-941cedd3e2f8>, line 2)",
     "output_type": "error",
     "traceback": [
      "\u001b[1;36m  File \u001b[1;32m\"<ipython-input-5-941cedd3e2f8>\"\u001b[1;36m, line \u001b[1;32m2\u001b[0m\n\u001b[1;33m    print('2 é maior que 3')\u001b[0m\n\u001b[1;37m    ^\u001b[0m\n\u001b[1;31mIndentationError\u001b[0m\u001b[1;31m:\u001b[0m unexpected indent\n"
     ]
    }
   ],
   "source": [
    "if 3 > 2 : print('Três é maior que dois')\n",
    "    print('3 é maior que 2')"
   ]
  },
  {
   "cell_type": "markdown",
   "metadata": {},
   "source": [
    "**Importante lição, para utilizar a forma simplificada de indentação, é necessário que exista apenas um resultado. Isso ocore para que Python evite ambiguidades.**"
   ]
  },
  {
   "cell_type": "markdown",
   "metadata": {},
   "source": [
    "# 2 - Comentários e Docstrings"
   ]
  },
  {
   "cell_type": "markdown",
   "metadata": {},
   "source": [
    "**Comentários e Docsrings são uma parte fundamental da programação, além de facilitar o entendimento futuro de um código que você escreveu a um relativo intervalo de tempo, ajuda com que outros programadores entendam melhor seu algoritmo, o que do ponto de vista científico é regra. Existem duas principais maneiras de fazer um código em Python:**"
   ]
  },
  {
   "cell_type": "markdown",
   "metadata": {},
   "source": [
    "Comentários de 1 linha:"
   ]
  },
  {
   "cell_type": "code",
   "execution_count": 9,
   "metadata": {},
   "outputs": [
    {
     "name": "stdout",
     "output_type": "stream",
     "text": [
      "Valor1 é menor que valor2\n"
     ]
    }
   ],
   "source": [
    "valor1 = 1 #Definição do valor da variável valor1\n",
    "valor2 = 2 #Definição do valor da variável valor2\n",
    "\n",
    "if valor1 < valor2 : #Checa se o valor é menor do que o valor2\n",
    "    print(\"Valor1 é menor que valor2\")    \n",
    "else: #Caso a primeira condição não seja satisfeita\n",
    "    print(\"Valor1 é maior ou igual a valor2\")"
   ]
  },
  {
   "cell_type": "code",
   "execution_count": 10,
   "metadata": {},
   "outputs": [
    {
     "name": "stdout",
     "output_type": "stream",
     "text": [
      "Valor1 é maior ou igual a valor2\n"
     ]
    }
   ],
   "source": [
    "valor1 = 1 #Definição do valor da variável valor1\n",
    "valor2 = 1 #Definição do valor da variável valor2\n",
    "\n",
    "if valor1 < valor2 : #Checa se o valor é menor do que o valor2\n",
    "    print(\"Valor1 é menor que valor2\")    \n",
    "else: #Caso a primeira condição não seja satisfeita\n",
    "    print(\"Valor1 é maior ou igual a valor2\")"
   ]
  },
  {
   "cell_type": "code",
   "execution_count": 11,
   "metadata": {},
   "outputs": [
    {
     "name": "stdout",
     "output_type": "stream",
     "text": [
      "Valor1 é maior ou igual a valor2\n"
     ]
    }
   ],
   "source": [
    "valor1 = 2 #Definição do valor da variável valor1\n",
    "valor2 = 1 #Definição do valor da variável valor2\n",
    "\n",
    "if valor1 < valor2 : #Checa se o valor é menor do que o valor2\n",
    "    print(\"Valor1 é menor que valor2\")    \n",
    "else: #Caso a primeira condição não seja satisfeita\n",
    "    print(\"Valor1 é maior ou igual a valor2\")"
   ]
  },
  {
   "cell_type": "markdown",
   "metadata": {},
   "source": [
    "Comentários de mais de uma linha:"
   ]
  },
  {
   "cell_type": "code",
   "execution_count": 12,
   "metadata": {},
   "outputs": [
    {
     "name": "stdout",
     "output_type": "stream",
     "text": [
      "Valor1 é menor que valor2\n"
     ]
    }
   ],
   "source": [
    "\"\"\"\n",
    "A estrutura de código abaixo definirá valores de duas variáveis (valor1 e valor2), em seguida testará se valor1 é menor do que valor2.\n",
    "\"\"\"\n",
    "\n",
    "valor1 = 1 \n",
    "valor2 = 2 \n",
    "\n",
    "if valor1 < valor2 : \n",
    "    print(\"Valor1 é menor que valor2\")    \n",
    "else: \n",
    "    print(\"Valor1 é maior ou igual a valor2\")"
   ]
  },
  {
   "cell_type": "markdown",
   "metadata": {},
   "source": [
    "**Dica: ao declarar variáveis, é importante que seus nomes ajudem no entendimento do código, veja o seguinte exemplo:**"
   ]
  },
  {
   "cell_type": "code",
   "execution_count": 14,
   "metadata": {},
   "outputs": [
    {
     "name": "stdout",
     "output_type": "stream",
     "text": [
      "Diferentes\n"
     ]
    }
   ],
   "source": [
    "x='flavio'\n",
    "y='cassio'\n",
    "\n",
    "if x == y:\n",
    "    print('Iguais')\n",
    "else:\n",
    "    print('Diferentes')"
   ]
  },
  {
   "cell_type": "markdown",
   "metadata": {},
   "source": [
    "**O código faria muito mais sentido se o escrevesse da seguinte forma:**"
   ]
  },
  {
   "cell_type": "code",
   "execution_count": 15,
   "metadata": {},
   "outputs": [
    {
     "name": "stdout",
     "output_type": "stream",
     "text": [
      "Diferentes\n"
     ]
    }
   ],
   "source": [
    "nome1 ='flavio'\n",
    "nome2 ='cassio'\n",
    "\n",
    "if nome1 == nome2:\n",
    "    print('Iguais')\n",
    "else:\n",
    "    print('Diferentes')"
   ]
  },
  {
   "cell_type": "markdown",
   "metadata": {},
   "source": [
    "**O ideal é que o pesquisador mescle entre as duas possibilidades de comentários. Usando o comentários de várias linhas para blocos de códigos mais complexos e o comentários de uma linha para lembretes importantes. O ponto fundamental é, comentar o seu código deve se tornar um hábito.**"
   ]
  }
 ],
 "metadata": {
  "kernelspec": {
   "display_name": "Python 3",
   "language": "python",
   "name": "python3"
  },
  "language_info": {
   "codemirror_mode": {
    "name": "ipython",
    "version": 3
   },
   "file_extension": ".py",
   "mimetype": "text/x-python",
   "name": "python",
   "nbconvert_exporter": "python",
   "pygments_lexer": "ipython3",
   "version": "3.7.3"
  }
 },
 "nbformat": 4,
 "nbformat_minor": 2
}
