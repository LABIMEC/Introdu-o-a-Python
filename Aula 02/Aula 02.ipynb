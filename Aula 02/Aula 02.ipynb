{
 "cells": [
  {
   "cell_type": "markdown",
   "metadata": {},
   "source": [
    "# Variáveis"
   ]
  },
  {
   "cell_type": "markdown",
   "metadata": {},
   "source": [
    "**Existem quatro tipos básicos de variáveis em Python, sendos esses: inteiros (int), decimais/ponto fluante (float), palavras/strings (str) e booleanos (bool). Booleanos são operadores lógicos do tipo verdadeiro/falso. Vejamos os quatro tipos:**"
   ]
  },
  {
   "cell_type": "code",
   "execution_count": 1,
   "metadata": {},
   "outputs": [],
   "source": [
    "inteiro = 1\n",
    "pontoFlutuante = 1.5\n",
    "string = 'Flavio'\n",
    "booleano = True"
   ]
  },
  {
   "cell_type": "code",
   "execution_count": 2,
   "metadata": {},
   "outputs": [
    {
     "name": "stdout",
     "output_type": "stream",
     "text": [
      "O tipo da variável 'inteiro' é: <class 'int'>\n",
      "O tipo da variável 'pontoFlutuante' é: <class 'float'>\n",
      "O tipo da variável 'string' é: <class 'str'>\n",
      "O tipo da variável 'booleano' é: <class 'bool'>\n"
     ]
    }
   ],
   "source": [
    "print(\"O tipo da variável 'inteiro' é:\", type(inteiro))\n",
    "print(\"O tipo da variável 'pontoFlutuante' é:\", type(pontoFlutuante))\n",
    "print(\"O tipo da variável 'string' é:\", type(string))\n",
    "print(\"O tipo da variável 'booleano' é:\", type(booleano))"
   ]
  },
  {
   "cell_type": "markdown",
   "metadata": {},
   "source": [
    "**Python tem uma facilitação em relação a outras linguagens de programação, o tipo da variável é designado a partir do momento de sua atribuição, vejamos:**"
   ]
  },
  {
   "cell_type": "code",
   "execution_count": 4,
   "metadata": {},
   "outputs": [
    {
     "name": "stdout",
     "output_type": "stream",
     "text": [
      "O tipo da variável 'variavel' é: <class 'int'>\n"
     ]
    }
   ],
   "source": [
    "variavel = 1\n",
    "print(\"O tipo da variável 'variavel' é:\", type(variavel))"
   ]
  },
  {
   "cell_type": "code",
   "execution_count": 3,
   "metadata": {},
   "outputs": [
    {
     "name": "stdout",
     "output_type": "stream",
     "text": [
      "O tipo da variável 'variavel' é: <class 'float'>\n"
     ]
    }
   ],
   "source": [
    "variavel = 1.5\n",
    "print(\"O tipo da variável 'variavel' é:\", type(variavel))"
   ]
  },
  {
   "cell_type": "code",
   "execution_count": 5,
   "metadata": {},
   "outputs": [
    {
     "name": "stdout",
     "output_type": "stream",
     "text": [
      "O tipo da variável 'variavel' é: <class 'str'>\n"
     ]
    }
   ],
   "source": [
    "variavel = 'Flavio'\n",
    "print(\"O tipo da variável 'variavel' é:\", type(variavel))"
   ]
  },
  {
   "cell_type": "code",
   "execution_count": 6,
   "metadata": {},
   "outputs": [
    {
     "name": "stdout",
     "output_type": "stream",
     "text": [
      "O tipo da variável 'variavel' é: <class 'bool'>\n"
     ]
    }
   ],
   "source": [
    "variavel = True\n",
    "print(\"O tipo da variável 'variavel' é:\", type(variavel))"
   ]
  },
  {
   "cell_type": "markdown",
   "metadata": {},
   "source": [
    "Qual será o tipo de 'variavel' no seguinte bloco?"
   ]
  },
  {
   "cell_type": "code",
   "execution_count": 7,
   "metadata": {},
   "outputs": [
    {
     "name": "stdout",
     "output_type": "stream",
     "text": [
      "O tipo da variável 'variavel' é: <class 'str'>\n"
     ]
    }
   ],
   "source": [
    "variavel = 1\n",
    "variavel = 'flavio'\n",
    "print(\"O tipo da variável 'variavel' é:\", type(variavel))"
   ]
  },
  {
   "cell_type": "markdown",
   "metadata": {},
   "source": [
    "<h2>IMPORTANTE: Python faz a leitura do código de cima para baixo, no código acima Python interpretará da seguinte maneira:</h2>\n",
    "\n",
    "    1) variavel = 1 implica que o tipo variavel é int;\n",
    "    \n",
    "    2) variavel = 'flavio' implica que o tipo de variavel é str;\n",
    "    \n",
    "    3) Ao printar o tipo de variável, vemos que respeitará a sua ultima atribuição e realmente é o que ocorre.\n",
    "   \n",
    "Confirmação:"
   ]
  },
  {
   "cell_type": "code",
   "execution_count": 10,
   "metadata": {},
   "outputs": [
    {
     "name": "stdout",
     "output_type": "stream",
     "text": [
      "O tipo da variável 'variavel' é: <class 'int'>\n",
      "O tipo da variável 'variavel' é: <class 'str'>\n"
     ]
    }
   ],
   "source": [
    "variavel = 1\n",
    "print(\"O tipo da variável 'variavel' é:\", type(variavel))\n",
    "variavel = 'flavio'\n",
    "print(\"O tipo da variável 'variavel' é:\", type(variavel))"
   ]
  },
  {
   "cell_type": "markdown",
   "metadata": {},
   "source": [
    "**As variáveis são sensíveis a letras maiúsculas e minúsculas**"
   ]
  },
  {
   "cell_type": "code",
   "execution_count": 12,
   "metadata": {},
   "outputs": [
    {
     "name": "stdout",
     "output_type": "stream",
     "text": [
      "O tipo da variável 'a' é: <class 'int'>\n",
      "O tipo da variável 'A' é: <class 'float'>\n"
     ]
    }
   ],
   "source": [
    "a = 1\n",
    "print(\"O tipo da variável 'a' é:\", type(a))\n",
    "A = 1.5\n",
    "print(\"O tipo da variável 'A' é:\", type(A))"
   ]
  },
  {
   "cell_type": "code",
   "execution_count": 13,
   "metadata": {},
   "outputs": [
    {
     "name": "stdout",
     "output_type": "stream",
     "text": [
      "O tipo da variável 'variavel' é: <class 'int'>\n",
      "O tipo da variável 'Variavel' é: <class 'bool'>\n"
     ]
    }
   ],
   "source": [
    "variavel = 1\n",
    "print(\"O tipo da variável 'variavel' é:\", type(variavel))\n",
    "Variavel = True\n",
    "print(\"O tipo da variável 'Variavel' é:\", type(Variavel))"
   ]
  }
 ],
 "metadata": {
  "kernelspec": {
   "display_name": "Python 3",
   "language": "python",
   "name": "python3"
  },
  "language_info": {
   "codemirror_mode": {
    "name": "ipython",
    "version": 3
   },
   "file_extension": ".py",
   "mimetype": "text/x-python",
   "name": "python",
   "nbconvert_exporter": "python",
   "pygments_lexer": "ipython3",
   "version": "3.7.3"
  }
 },
 "nbformat": 4,
 "nbformat_minor": 2
}
